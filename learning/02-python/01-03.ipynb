{
 "cells": [
  {
   "cell_type": "code",
   "execution_count": 1,
   "id": "a46a1d18-8f02-42a1-9047-c3dbd5960905",
   "metadata": {},
   "outputs": [
    {
     "name": "stdout",
     "output_type": "stream",
     "text": [
      "True\n",
      "True\n",
      "True\n",
      "True\n"
     ]
    },
    {
     "data": {
      "text/plain": [
       "''"
      ]
     },
     "execution_count": 1,
     "metadata": {},
     "output_type": "execute_result"
    }
   ],
   "source": [
    "# написать функцию, которая принимает строку и возвращает первое самое длинное слово\n",
    "import string\n",
    "\n",
    "def longest_word_max(sentence):\n",
    "    longest_word = ''\n",
    "    for char in string.punctuation:\n",
    "        sentence = sentence.replace(char, '')\n",
    "    \n",
    "    for word in sentence.split():\n",
    "        if len(word) > len(longest_word):\n",
    "            longest_word = word\n",
    "            \n",
    "    return longest_word\n",
    "\n",
    "print(longest_word_max('съешь же ещё этих мягких французских булок, да выпей чаю') == 'французских')\n",
    "print(longest_word_max('word 1') == 'word')\n",
    "print(longest_word_max('this is a sentence with a lot of words aaaaaaaa 88888888') == 'sentence')\n",
    "print(longest_word_max('word') == 'word')\n",
    "longest_word_max('')"
   ]
  },
  {
   "cell_type": "code",
   "execution_count": 2,
   "id": "b8f58727-60a5-4b60-9aa7-f68aa28fe109",
   "metadata": {},
   "outputs": [
    {
     "name": "stdout",
     "output_type": "stream",
     "text": [
      "!\"#$%&'()*+,-./:;<=>?@[\\]^_`{|}~\n"
     ]
    },
    {
     "data": {
      "text/plain": [
       "['съешь',\n",
       " 'же',\n",
       " 'ещё',\n",
       " 'этих',\n",
       " 'мягких',\n",
       " 'французских',\n",
       " 'булок',\n",
       " 'да',\n",
       " 'выпей',\n",
       " 'чаю']"
      ]
     },
     "execution_count": 2,
     "metadata": {},
     "output_type": "execute_result"
    }
   ],
   "source": [
    "import string\n",
    "\n",
    "print(string.punctuation)\n",
    "\n",
    "s = 'съешь же ещё этих мягких французских булок, да выпей чаю'\n",
    "\n",
    "for char in string.punctuation:\n",
    "    s = s.replace(char, '')\n",
    "# s[0:5]\n",
    "s.split()"
   ]
  },
  {
   "cell_type": "code",
   "execution_count": 3,
   "id": "2a4b40f4-a338-4850-b79b-42107464cb86",
   "metadata": {},
   "outputs": [],
   "source": [
    "longest_word = ''\n",
    "for word in s.split():\n",
    "    if len(word) > len(longest_word):\n",
    "        longest_word = word"
   ]
  },
  {
   "cell_type": "code",
   "execution_count": 4,
   "id": "1752586e-d7c8-424c-a4a4-fa37b410888c",
   "metadata": {},
   "outputs": [
    {
     "name": "stdout",
     "output_type": "stream",
     "text": [
      "True\n",
      "True\n",
      "True\n",
      "True\n"
     ]
    }
   ],
   "source": [
    "# написать функцию, которая принимает строку и возвращает первое самое длинное слово\n",
    "import string\n",
    "\n",
    "def longest_word_max(sentence):\n",
    "    for char in string.punctuation:\n",
    "        sentence = sentence.replace(char, '')\n",
    "    \n",
    "    return max(sentence.split(), key=len)\n",
    "\n",
    "print(longest_word_max('съешь же ещё этих мягких французских булок, да выпей чаю') == 'французских')\n",
    "print(longest_word_max('word 1') == 'word')\n",
    "print(longest_word_max('this is a sentence with a lot of words aaaaaaaa 88888888') == 'sentence')\n",
    "print(longest_word_max('word') == 'word')\n",
    "# longest_word_max('this is a sentence with')"
   ]
  },
  {
   "cell_type": "code",
   "execution_count": 5,
   "id": "f6012d12-fbc7-4bd4-a49f-2780c2b50584",
   "metadata": {},
   "outputs": [
    {
     "data": {
      "text/plain": [
       "'aca'"
      ]
     },
     "execution_count": 5,
     "metadata": {},
     "output_type": "execute_result"
    }
   ],
   "source": [
    "max(['ag', 'aca'], key=len)"
   ]
  },
  {
   "cell_type": "code",
   "execution_count": 6,
   "id": "f4509265-2aee-46c3-9395-1d6ebc8adab1",
   "metadata": {},
   "outputs": [],
   "source": [
    "objects = [1, 3.14, '3', [40, 2], {'key': 'value'}, 4+2j]"
   ]
  },
  {
   "cell_type": "code",
   "execution_count": 7,
   "id": "8978dfdd-f304-45a8-9854-702791eba62b",
   "metadata": {},
   "outputs": [
    {
     "data": {
      "text/plain": [
       "[1, 3.14, (4+2j)]"
      ]
     },
     "execution_count": 7,
     "metadata": {},
     "output_type": "execute_result"
    }
   ],
   "source": [
    "def get_numbers(objects: list) -> list:\n",
    "    index_list = []\n",
    "    for index, obj in enumerate(objects):\n",
    "        if type(obj) == int:\n",
    "            index_list.append(index)\n",
    "        if type(obj) == float:\n",
    "            index_list.append(index)\n",
    "        if type(obj) == complex:\n",
    "            index_list.append(index)\n",
    "    \n",
    "    return [objects[i] for i in index_list]\n",
    "\n",
    "get_numbers(objects)"
   ]
  },
  {
   "cell_type": "code",
   "execution_count": 8,
   "id": "6dc0bd97-6262-493b-8466-063ee75cc4ec",
   "metadata": {},
   "outputs": [
    {
     "data": {
      "text/plain": [
       "[1, 3.14, (4+2j)]"
      ]
     },
     "execution_count": 8,
     "metadata": {},
     "output_type": "execute_result"
    }
   ],
   "source": [
    "def get_numbers(objects: list) -> list:\n",
    "    index_list = []\n",
    "    for index, obj in enumerate(objects):\n",
    "        if type(obj) in (int, float, complex):\n",
    "            index_list.append(index)\n",
    "    \n",
    "    return [objects[i] for i in index_list]\n",
    "\n",
    "get_numbers(objects)"
   ]
  },
  {
   "cell_type": "code",
   "execution_count": 9,
   "id": "3d8d5d12-5507-4974-a2ac-39c549a15931",
   "metadata": {},
   "outputs": [
    {
     "data": {
      "text/plain": [
       "[1, 3.14, (4+2j)]"
      ]
     },
     "execution_count": 9,
     "metadata": {},
     "output_type": "execute_result"
    }
   ],
   "source": [
    "def get_numbers(objects: list) -> list:\n",
    "    return [objects[i] for i in [index for index, obj in enumerate(objects) if type(obj) in (int, float, complex)]]\n",
    "\n",
    "get_numbers(objects)"
   ]
  },
  {
   "cell_type": "code",
   "execution_count": 10,
   "id": "e9db71bd-8569-4875-9ad5-415c10b25bb8",
   "metadata": {},
   "outputs": [
    {
     "data": {
      "text/plain": [
       "[1, 3.14, (4+2j)]"
      ]
     },
     "execution_count": 10,
     "metadata": {},
     "output_type": "execute_result"
    }
   ],
   "source": [
    "from numbers import Number\n",
    "\n",
    "def get_numbers(objects: list) -> list:\n",
    "    return [objects[i] for i in [index for index, obj in enumerate(objects) if isinstance(obj, Number)]]\n",
    "\n",
    "get_numbers(objects)"
   ]
  },
  {
   "cell_type": "code",
   "execution_count": 11,
   "id": "0812b834-4eaf-4941-bfcb-05530a07cbb4",
   "metadata": {},
   "outputs": [
    {
     "data": {
      "text/plain": [
       "[1, 3.14, (4+2j)]"
      ]
     },
     "execution_count": 11,
     "metadata": {},
     "output_type": "execute_result"
    }
   ],
   "source": [
    "def get_numbers(objects: list) -> list:\n",
    "    return list(filter(lambda obj: isinstance(obj, Number), objects))\n",
    "\n",
    "get_numbers(objects)"
   ]
  },
  {
   "cell_type": "code",
   "execution_count": 12,
   "id": "d8643045-1ef9-420b-9a0d-45bbcbb971fb",
   "metadata": {},
   "outputs": [
    {
     "data": {
      "text/plain": [
       "[1, 3.14, (4+2j)]"
      ]
     },
     "execution_count": 12,
     "metadata": {},
     "output_type": "execute_result"
    }
   ],
   "source": [
    "# плохой нечитаемый list comprehension\n",
    "from numbers import Number\n",
    "n = Number\n",
    "i = isinstance\n",
    "def get_numbers(o: list) -> list:\n",
    "    return [j for j in o if i(j, n)]\n",
    "\n",
    "get_numbers(objects)"
   ]
  },
  {
   "cell_type": "code",
   "execution_count": 13,
   "id": "dc3fbbb8-ebf3-47b7-8484-7b225f6acc4e",
   "metadata": {},
   "outputs": [
    {
     "name": "stdout",
     "output_type": "stream",
     "text": [
      "can only concatenate str (not \"int\") to str\n",
      "can only concatenate list (not \"int\") to list\n",
      "unsupported operand type(s) for +: 'dict' and 'int'\n"
     ]
    },
    {
     "data": {
      "text/plain": [
       "[1, 3.14, (4+2j)]"
      ]
     },
     "execution_count": 13,
     "metadata": {},
     "output_type": "execute_result"
    }
   ],
   "source": [
    "def get_numbers(objects: list) -> list:\n",
    "    res = []\n",
    "    for obj in objects:\n",
    "        try:\n",
    "            obj+2\n",
    "            res.append(obj)\n",
    "        except Exception as e:\n",
    "            print(e)\n",
    "            \n",
    "    return res\n",
    "\n",
    "get_numbers(objects)"
   ]
  },
  {
   "cell_type": "code",
   "execution_count": null,
   "id": "9d7ee5c5-b79c-446e-879a-6d5dbada2b8b",
   "metadata": {},
   "outputs": [],
   "source": []
  },
  {
   "cell_type": "markdown",
   "id": "9a5921c5-8c02-42bf-b290-cc9d7bf243ef",
   "metadata": {},
   "source": [
    "Наиболее полезным к изучению будет раздел документации [Data model](https://docs.python.org/3.9/reference/datamodel.html)\n",
    "\n",
    "Обязательно два пункта:\n",
    "* 3.1. Objects, values and types\n",
    "* 3.2. The standard type hierarchy\n",
    "\n",
    "А также полезным будет раздел про [встроенные типы](https://docs.python.org/3.9/library/stdtypes.html). \n",
    "Изучайте его конкретные пункты в соответствии с тем типом данных, с которым возникли проблемы во время решения задачи. "
   ]
  }
 ],
 "metadata": {
  "kernelspec": {
   "display_name": "Python 3 (ipykernel)",
   "language": "python",
   "name": "python3"
  },
  "language_info": {
   "codemirror_mode": {
    "name": "ipython",
    "version": 3
   },
   "file_extension": ".py",
   "mimetype": "text/x-python",
   "name": "python",
   "nbconvert_exporter": "python",
   "pygments_lexer": "ipython3",
   "version": "3.9.7"
  }
 },
 "nbformat": 4,
 "nbformat_minor": 5
}
