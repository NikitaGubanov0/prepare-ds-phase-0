{
 "cells": [
  {
   "cell_type": "code",
   "execution_count": 10,
   "id": "f5fd11c7-bbf0-4897-b447-d1b8b6cd7c43",
   "metadata": {},
   "outputs": [
    {
     "name": "stdout",
     "output_type": "stream",
     "text": [
      "/home/nikita/ds-phase-0/learning/done\n"
     ]
    }
   ],
   "source": [
    "!pwd"
   ]
  },
  {
   "cell_type": "code",
   "execution_count": 11,
   "id": "b4f5ef3e-390d-4838-ba80-40726cb19ac8",
   "metadata": {},
   "outputs": [],
   "source": [
    "!mkdir texts"
   ]
  },
  {
   "cell_type": "code",
   "execution_count": 16,
   "id": "75ba91e7-63d3-4dd2-bf21-fa0d296bf9e1",
   "metadata": {},
   "outputs": [],
   "source": [
    "!touch texts/example\\ file.txt"
   ]
  },
  {
   "cell_type": "code",
   "execution_count": 17,
   "id": "f7e8f78b-643b-4264-bb15-ccf37e123cf7",
   "metadata": {},
   "outputs": [],
   "source": [
    "!echo 01-general > texts/example\\ file.txt"
   ]
  },
  {
   "cell_type": "code",
   "execution_count": 18,
   "id": "46fbe0ce-58f6-4769-a6a3-a480795dbc0c",
   "metadata": {},
   "outputs": [],
   "source": [
    "!echo 02-python >> texts/example\\ file.txt"
   ]
  },
  {
   "cell_type": "code",
   "execution_count": 19,
   "id": "058e0dad-ab4e-42b5-b5f0-084f6b545735",
   "metadata": {},
   "outputs": [],
   "source": [
    "!echo 03-pandas >> texts/example\\ file.txt"
   ]
  },
  {
   "cell_type": "code",
   "execution_count": 20,
   "id": "a33a18be-bbdf-48ca-b035-29a5a6199e6e",
   "metadata": {},
   "outputs": [],
   "source": [
    "!echo 04-charts >> texts/example\\ file.txt"
   ]
  },
  {
   "cell_type": "code",
   "execution_count": 21,
   "id": "b24a6e24-9ae4-46b6-8e54-544a53302aa1",
   "metadata": {},
   "outputs": [],
   "source": [
    "!echo done >> texts/example\\ file.txt"
   ]
  },
  {
   "cell_type": "code",
   "execution_count": 22,
   "id": "a2f207b9-866f-489b-b47a-2a6fe8a732cf",
   "metadata": {},
   "outputs": [],
   "source": [
    "!echo tasks >> texts/example\\ file.txt"
   ]
  },
  {
   "cell_type": "code",
   "execution_count": 23,
   "id": "b8ad8c92-0b35-4a98-a7e9-1510be093b08",
   "metadata": {},
   "outputs": [
    {
     "name": "stdout",
     "output_type": "stream",
     "text": [
      "mv: не удалось выполнить stat для 'example file.txt': Нет такого файла или каталога\n"
     ]
    }
   ],
   "source": [
    "!mv example\\ file.txt 01-ls.txt"
   ]
  },
  {
   "cell_type": "code",
   "execution_count": 24,
   "id": "c7539e98-64b3-4393-9c5d-c260a040beb4",
   "metadata": {},
   "outputs": [
    {
     "name": "stdout",
     "output_type": "stream",
     "text": [
      "mv: не удалось выполнить stat для 'example file.txt': Нет такого файла или каталога\n"
     ]
    }
   ],
   "source": [
    "!mv 'example file.txt' 01-ls.txt"
   ]
  },
  {
   "cell_type": "code",
   "execution_count": 25,
   "id": "64b9b458-0f71-48f2-860b-422fca3b6e70",
   "metadata": {},
   "outputs": [],
   "source": [
    "!cd texts/"
   ]
  },
  {
   "cell_type": "code",
   "execution_count": 26,
   "id": "68a3d8a3-71f5-4538-aa90-d190b2a43dcb",
   "metadata": {},
   "outputs": [
    {
     "name": "stdout",
     "output_type": "stream",
     "text": [
      "__init__.py  texts  Untitled.ipynb\n"
     ]
    }
   ],
   "source": [
    "!ls"
   ]
  },
  {
   "cell_type": "code",
   "execution_count": 27,
   "id": "f741a211-0c8c-49fb-9342-66f80c1dd6a0",
   "metadata": {},
   "outputs": [
    {
     "name": "stdout",
     "output_type": "stream",
     "text": [
      "'example file.txt'\n"
     ]
    }
   ],
   "source": [
    "!ls texts/"
   ]
  },
  {
   "cell_type": "code",
   "execution_count": 28,
   "id": "b0ed36bc-072d-4947-b754-1b0f1c99d1b3",
   "metadata": {},
   "outputs": [
    {
     "name": "stdout",
     "output_type": "stream",
     "text": [
      "mv: не удалось выполнить stat для 'example file.txt': Нет такого файла или каталога\n"
     ]
    }
   ],
   "source": [
    "!cd texts/\n",
    "!mv example\\ file.txt 01-ls.txt"
   ]
  },
  {
   "cell_type": "code",
   "execution_count": null,
   "id": "2bb2b209-6f62-4867-aed0-6dd472b3c8f1",
   "metadata": {},
   "outputs": [],
   "source": []
  }
 ],
 "metadata": {
  "kernelspec": {
   "display_name": "Python 3 (ipykernel)",
   "language": "python",
   "name": "python3"
  },
  "language_info": {
   "codemirror_mode": {
    "name": "ipython",
    "version": 3
   },
   "file_extension": ".py",
   "mimetype": "text/x-python",
   "name": "python",
   "nbconvert_exporter": "python",
   "pygments_lexer": "ipython3",
   "version": "3.9.13"
  }
 },
 "nbformat": 4,
 "nbformat_minor": 5
}
