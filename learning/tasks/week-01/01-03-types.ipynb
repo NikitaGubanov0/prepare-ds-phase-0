{
 "cells": [
  {
   "cell_type": "markdown",
   "metadata": {},
   "source": [
    "# Фаза-0 \n",
    "## День 3. Задачи на типы данных\n",
    "\n",
    "- Если задачу не получается сделать дольше 25 минут, то можно отложить её и попробовать выполнить позже\n",
    "- При этом важно сделать перерыв на 5 минут и только после этого приступить к следующему заданию \n",
    "- Когда выполните этот ноутбук (или наступит следующий день), скопируйте его в папку `learning/done/`\n",
    "- Отправьте свой ноутбук в репозиторий на github\n",
    "- Если останутся невыполненные задания, то отправьте их в репозиторий на github как только выполните их\n",
    "\n",
    "\n",
    "Решаем задачи на codewars. \n",
    "\n",
    "Добавьте **здесь** ссылку на свой аккаунт на codewars.\n",
    "\n",
    "Копируем в ноутбук своё первое прошедшее все тесты решение и один пример теста."
   ]
  },
  {
   "cell_type": "markdown",
   "metadata": {},
   "source": [
    "**Sum Mixed Array**\n",
    "\n",
    "https://www.codewars.com/kata/57eaeb9578748ff92a000009"
   ]
  },
  {
   "cell_type": "code",
   "execution_count": null,
   "metadata": {},
   "outputs": [],
   "source": [
    "# ваш код здесь"
   ]
  },
  {
   "cell_type": "markdown",
   "metadata": {},
   "source": [
    "**Transposing a song**\n",
    "\n",
    "https://www.codewars.com/kata/55b6a3a3c776ce185c000021"
   ]
  },
  {
   "cell_type": "code",
   "execution_count": 4,
   "metadata": {},
   "outputs": [],
   "source": [
    "# ваш код здесь"
   ]
  },
  {
   "cell_type": "markdown",
   "metadata": {},
   "source": [
    "**String Merge!**\n",
    "\n",
    "https://www.codewars.com/kata/597bb84522bc93b71e00007e"
   ]
  },
  {
   "cell_type": "code",
   "execution_count": null,
   "metadata": {},
   "outputs": [],
   "source": [
    "# ваш код здесь"
   ]
  },
  {
   "cell_type": "markdown",
   "metadata": {},
   "source": [
    "**IP Validation**\n",
    "\n",
    "https://www.codewars.com/kata/515decfd9dcfc23bb6000006"
   ]
  },
  {
   "cell_type": "code",
   "execution_count": null,
   "metadata": {},
   "outputs": [],
   "source": [
    "# ваш код здесь"
   ]
  },
  {
   "cell_type": "markdown",
   "metadata": {},
   "source": [
    "**Sort and Transform**\n",
    "\n",
    "https://www.codewars.com/kata/57cc847e58a06b1492000264"
   ]
  },
  {
   "cell_type": "code",
   "execution_count": 5,
   "metadata": {},
   "outputs": [],
   "source": [
    "# ваш код здесь"
   ]
  },
  {
   "cell_type": "markdown",
   "metadata": {},
   "source": [
    "**Frank's Sticky Calculator**\n",
    "\n",
    "https://www.codewars.com/kata/5900750cb7c6172207000054"
   ]
  },
  {
   "cell_type": "code",
   "execution_count": null,
   "metadata": {},
   "outputs": [],
   "source": [
    "# ваш код здесь"
   ]
  },
  {
   "cell_type": "markdown",
   "metadata": {},
   "source": [
    "**Highest Scoring Word**\n",
    "\n",
    "https://www.codewars.com/kata/57eb8fcdf670e99d9b000272"
   ]
  },
  {
   "cell_type": "code",
   "execution_count": null,
   "metadata": {},
   "outputs": [],
   "source": [
    "# ваш код здесь"
   ]
  },
  {
   "cell_type": "markdown",
   "metadata": {},
   "source": [
    "**Clean up after your dog**\n",
    "\n",
    "https://www.codewars.com/kata/57faa6ff9610ce181b000028"
   ]
  },
  {
   "cell_type": "code",
   "execution_count": null,
   "metadata": {},
   "outputs": [],
   "source": [
    "# ваш код здесь"
   ]
  },
  {
   "cell_type": "markdown",
   "metadata": {},
   "source": [
    "**Pokemon Damage Calculator**\n",
    "\n",
    "https://www.codewars.com/kata/536e9a7973130a06eb000e9f"
   ]
  },
  {
   "cell_type": "code",
   "execution_count": null,
   "metadata": {},
   "outputs": [],
   "source": [
    "# ваш код здесь"
   ]
  }
 ],
 "metadata": {
  "interpreter": {
   "hash": "8c4d66b392a277a774887e7eee960caae64ddd450a8b0e92eab38ef0b7f9a5e5"
  },
  "kernelspec": {
   "display_name": "Python 3.8.13",
   "language": "python",
   "name": "python3"
  },
  "language_info": {
   "codemirror_mode": {
    "name": "ipython",
    "version": 3
   },
   "file_extension": ".py",
   "mimetype": "text/x-python",
   "name": "python",
   "nbconvert_exporter": "python",
   "pygments_lexer": "ipython3",
   "version": "3.8.13"
  },
  "orig_nbformat": 4
 },
 "nbformat": 4,
 "nbformat_minor": 2
}
