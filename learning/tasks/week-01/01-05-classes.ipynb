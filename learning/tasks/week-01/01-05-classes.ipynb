{
 "cells": [
  {
   "cell_type": "markdown",
   "metadata": {},
   "source": [
    "# Фаза-0 \n",
    "## День 5. Задачи на ООП\n",
    "\n",
    "- Если задачу не получается сделать дольше 45 минут, то можно отложить её и попробовать выполнить позже\n",
    "- При этом важно сделать перерыв на 5 минут и только после этого приступить к следующему заданию \n",
    "- Когда выполните этот ноутбук (или наступит следующий день), скопируйте его в папку `learning/done/`\n",
    "- Отправьте свой ноутбук в репозиторий на github\n",
    "- Если останутся невыполненные задания, то отправьте их в репозиторий на github как только выполните их"
   ]
  },
  {
   "cell_type": "markdown",
   "metadata": {},
   "source": [
    "**Задание 01**"
   ]
  },
  {
   "cell_type": "code",
   "execution_count": null,
   "metadata": {},
   "outputs": [],
   "source": [
    "# Напишите класс, который реализует метод `__init__`, который принимает в качестве аргументов имя и фамилию человекаю,\n",
    "# а также возраст, годовую зарплату, количество членов семьи, наличие водительского удостоверения.\n",
    "# Создайте объект класса и присвойте его переменной `person`.\n",
    "# Выведите значения всех полей на экран."
   ]
  },
  {
   "cell_type": "code",
   "execution_count": null,
   "metadata": {},
   "outputs": [],
   "source": [
    "class Person:\n",
    "    # ваш код здесь"
   ]
  },
  {
   "cell_type": "markdown",
   "metadata": {},
   "source": [
    "**Задание 02**"
   ]
  },
  {
   "cell_type": "code",
   "execution_count": null,
   "metadata": {},
   "outputs": [],
   "source": [
    "# Напишите класс `Student` который наследует класс `Person`.\n",
    "# В классе `Student` должен быть определен метод `study`, который выводит на экран строку `\"I'm studying\"`.\n",
    "# Создайте объект класса `Student` и присвойте его переменной `student`.\n",
    "# Выведите на экран значения переменных `student.family_size` и `student.salary`.\n",
    "# Вызовите метод `study` для объекта `student`.\n"
   ]
  },
  {
   "cell_type": "code",
   "execution_count": null,
   "metadata": {},
   "outputs": [],
   "source": [
    "# ваш код здесь\n"
   ]
  },
  {
   "cell_type": "markdown",
   "metadata": {},
   "source": [
    "**Задание 03**"
   ]
  },
  {
   "cell_type": "code",
   "execution_count": null,
   "metadata": {},
   "outputs": [],
   "source": [
    "# Напишите класс `SocialWorker` который наследует класс `Person`.\n",
    "# В классе `SocialWorker` должен быть определен метод `work`, который выводит на экран строку `\"I'm working\"`.\n",
    "# Создайте объект класса `SocialWorker` и присвойте его переменной `worker`.\n",
    "# Выведите на экран значения переменных `worker.name` и `worker.age`.\n",
    "# Вызовите метод `work` для объекта `worker`."
   ]
  },
  {
   "cell_type": "code",
   "execution_count": null,
   "metadata": {},
   "outputs": [],
   "source": [
    "# ваш код здесь"
   ]
  },
  {
   "cell_type": "markdown",
   "metadata": {},
   "source": [
    "**Задание 04**"
   ]
  },
  {
   "cell_type": "code",
   "execution_count": null,
   "metadata": {},
   "outputs": [],
   "source": [
    "# Напишите класс `Programmer` который наследует класс `Person`.\n",
    "# В классе `Programmer` должен быть определен метод `program`, который выводит на экран строку `\"I'm programming\"`.\n",
    "# Создайте объект класса `Programmer` и присвойте его переменной `programmer`.\n",
    "# Выведите на экран значения переменных `programmer.name` и `programmer.age`.\n",
    "# Вызовите метод `work` для объекта `programmer`."
   ]
  },
  {
   "cell_type": "code",
   "execution_count": null,
   "metadata": {},
   "outputs": [],
   "source": [
    "# ваш код здесь"
   ]
  },
  {
   "cell_type": "markdown",
   "metadata": {},
   "source": [
    "**Задание 05**"
   ]
  },
  {
   "cell_type": "code",
   "execution_count": null,
   "metadata": {},
   "outputs": [],
   "source": [
    "# Напишите класс, который реализует метод для создания набора данных о сотрудниках компании. \n",
    "# В классе определите метод `__init__`, который принимает в качестве аргумента название компании.\n",
    "# Класс должен иметь метод `create_employees`. \n",
    "# Метод должен принимать на вход количество сотрудников и возвращать список \n",
    "# объектов классов `SocialWorker` и `Programmer` в случайном соотношении.\n",
    "# Аргументы для инициализации объектов классов должны быть случайными. \n",
    "# Задайте ограничение на уровень зарплаты - для каждого класса уникальная \"вилка\" зарплаты.\n",
    "# Можно заранее задать перечень возможных имен и фамилий для объектов классов `SocialWorker` и `Programmer`."
   ]
  },
  {
   "cell_type": "code",
   "execution_count": null,
   "metadata": {},
   "outputs": [],
   "source": [
    "# ваш код здесь"
   ]
  },
  {
   "cell_type": "markdown",
   "metadata": {},
   "source": [
    "**Задание 06**"
   ]
  },
  {
   "cell_type": "code",
   "execution_count": null,
   "metadata": {},
   "outputs": [],
   "source": [
    "# Напишите класс, который имеет метод для генерации случайных выборок из некоторого набора данных.\n",
    "\n",
    "# В классе должен быть определен метод `split`, который принимает на вход набор данных (список)\n",
    "# и делит его на две неравные части. Соотношение размеров частей может быть определено параметром `split_size`.\n",
    "# Важный момент, что при каждом вызове метода `split` данные должны быть заново перемешаны, то есть объекты \n",
    "# данных должны быть выданы в другом порядке. Пример вызова метода `split`:"
   ]
  },
  {
   "cell_type": "markdown",
   "metadata": {},
   "source": [
    "        splitter = Splitter()\n",
    "\n",
    "        data = [1, 2, 3, 4, 5, 6, 7, 8, 9, 10]\n",
    "\n",
    "        print(splitter.split(data, 0.2)) # доля 0.2\n",
    "        OUT: [[1, 6, 3, 9, 5, 2, 7, 8], [4, 10]]\n",
    "\n",
    "        print(splitter.split(data, 0.2)) # доля 0.2\n",
    "        OUT: [[8, 6, 3, 9, 5, 2, 4, 10], [7, 1]]\n",
    "\n",
    "        ..."
   ]
  },
  {
   "cell_type": "code",
   "execution_count": null,
   "metadata": {},
   "outputs": [],
   "source": [
    "# Важный момент, что каждый вызов метода `split` должен быть сохранён в атрибуте `self.splits`.\n",
    "# И в случае, если в малой части окажутся те же данные, что были ранее, то метод `split` должен вызываться ещё раз,\n",
    "# пока не получится уникальное сочетание данных в малой части разбиения.\n",
    "# И только тогда результат будет выдан пользователю.\n",
    "# Если мы достигнем максимального числа попыток перемешивания данных, то выдаём ошибку."
   ]
  },
  {
   "cell_type": "code",
   "execution_count": null,
   "metadata": {},
   "outputs": [],
   "source": [
    "class Splitter:\n",
    "    # ваш код здесь"
   ]
  },
  {
   "cell_type": "markdown",
   "metadata": {},
   "source": [
    "**Задание 07**"
   ]
  },
  {
   "cell_type": "code",
   "execution_count": null,
   "metadata": {},
   "outputs": [],
   "source": [
    "# А теперь используйте список сотрудников компании (Задание 05), не менее 15 человек, для разбиения на \n",
    "# две выборки с соотношением 0.7 и 0.3.\n",
    "# Найти такой состав групп, в котором будет минимальное значение\n",
    "# отклонения средней зарплаты в выборке от средней зарплаты во всей компании."
   ]
  },
  {
   "cell_type": "code",
   "execution_count": null,
   "metadata": {},
   "outputs": [],
   "source": [
    "# ваш код здесь"
   ]
  }
 ],
 "metadata": {
  "interpreter": {
   "hash": "8c4d66b392a277a774887e7eee960caae64ddd450a8b0e92eab38ef0b7f9a5e5"
  },
  "kernelspec": {
   "display_name": "Python 3.8.13",
   "language": "python",
   "name": "python3"
  },
  "language_info": {
   "codemirror_mode": {
    "name": "ipython",
    "version": 3
   },
   "file_extension": ".py",
   "mimetype": "text/x-python",
   "name": "python",
   "nbconvert_exporter": "python",
   "pygments_lexer": "ipython3",
   "version": "3.8.13"
  },
  "orig_nbformat": 4
 },
 "nbformat": 4,
 "nbformat_minor": 2
}
