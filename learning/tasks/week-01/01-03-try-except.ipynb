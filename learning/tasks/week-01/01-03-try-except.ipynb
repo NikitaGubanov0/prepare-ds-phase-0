{
 "cells": [
  {
   "cell_type": "markdown",
   "metadata": {},
   "source": [
    "# Фаза-0 \n",
    "## День 3. Задачи на try-except конструкции\n",
    "\n",
    "- Если задачу не получается сделать дольше 25 минут, то можно отложить её и попробовать выполнить позже\n",
    "- При этом важно сделать перерыв на 5 минут и только после этого приступить к следующему заданию \n",
    "- Когда выполните этот ноутбук (или наступит следующий день), скопируйте его в папку `learning/done/`\n",
    "- Отправьте свой ноутбук в репозиторий на github\n",
    "- Если останутся невыполненные задания, то отправьте их в репозиторий на github как только выполните их"
   ]
  },
  {
   "cell_type": "code",
   "execution_count": null,
   "metadata": {},
   "outputs": [],
   "source": [
    "# Реализуй функцию, которая берёт модуль от разницы двух входных чисел от пользователя\n",
    "# используй try-except конструкцию для того, чтобы вывести на экран сообщение 'error' в случае возникновения ошибки\n",
    "\n",
    "def get_module(a, b):\n",
    "    pass\n",
    "\n",
    "for test_case in (((1, 5), 4),\n",
    "                  ((8, 0), 8), \n",
    "                  ((30, 15), 15), \n",
    "                  ((-1, 22), 23),\n",
    "                  (('2', '3'), 'error'), \n",
    "                  ((2, '0'), 'error'),\n",
    "                  ((0, '2'),'error'),\n",
    "                  (([3.14], 3.14), 'error')):\n",
    "    \n",
    "    print(get_module(*test_case[0]) == test_case[1])"
   ]
  },
  {
   "cell_type": "code",
   "execution_count": null,
   "metadata": {},
   "outputs": [],
   "source": [
    "# На вход приходит tuple из разных типов данных\n",
    "# нужно сделать функцию, которая принимает на вход этот tuple и возвращает список имён типов данных\n",
    "# Важное уточнение, нам не доступны функция type() и isinstance()\n",
    "\n",
    "# реализуй решение с применением try-except конструкции, if-else тоже можно использовать\n",
    "# для решения используй \"типичные\" методы ;)\n",
    "\n",
    "\n",
    "objects = (42, 'hello', [1, 2, 3], (4, 5, 6), {7, 8, 9}, None, 3.14)\n",
    "\n",
    "def type_detector(objects: tuple) -> list:\n",
    "    pass\n",
    "\n",
    "print(type_detector(objects) == ('int', 'str', 'list', 'tuple', 'set', 'None', 'float'))"
   ]
  },
  {
   "cell_type": "code",
   "execution_count": null,
   "metadata": {},
   "outputs": [],
   "source": []
  }
 ],
 "metadata": {
  "interpreter": {
   "hash": "8c4d66b392a277a774887e7eee960caae64ddd450a8b0e92eab38ef0b7f9a5e5"
  },
  "kernelspec": {
   "display_name": "Python 3.8.13",
   "language": "python",
   "name": "python3"
  },
  "language_info": {
   "codemirror_mode": {
    "name": "ipython",
    "version": 3
   },
   "file_extension": ".py",
   "mimetype": "text/x-python",
   "name": "python",
   "nbconvert_exporter": "python",
   "pygments_lexer": "ipython3",
   "version": "3.8.13"
  },
  "orig_nbformat": 4
 },
 "nbformat": 4,
 "nbformat_minor": 2
}
