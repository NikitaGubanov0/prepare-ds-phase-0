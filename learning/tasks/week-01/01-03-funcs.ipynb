{
 "cells": [
  {
   "cell_type": "markdown",
   "metadata": {},
   "source": [
    "# Фаза-0 \n",
    "## День 3. Задачи на применение функций\n",
    "\n",
    "- Если задачу не получается сделать дольше 25 минут, то можно отложить её и попробовать выполнить позже\n",
    "- При этом важно сделать перерыв на 5 минут и только после этого приступить к следующему заданию \n",
    "- Когда выполните этот ноутбук (или наступит следующий день), скопируйте его в папку `learning/done/`\n",
    "- Отправьте свой ноутбук в репозиторий на github\n",
    "- Если останутся невыполненные задания, то отправьте их в репозиторий на github как только выполните их"
   ]
  },
  {
   "cell_type": "markdown",
   "metadata": {},
   "source": [
    "**isinstanse**"
   ]
  },
  {
   "cell_type": "code",
   "execution_count": null,
   "metadata": {},
   "outputs": [],
   "source": [
    "# Напишите функцию, которая принимает на вход список и возвращает только числа (Number)\n",
    "\n",
    "def get_numbers(lst):\n",
    "    pass\n",
    "\n",
    "print(get_numbers([1, 2, 3, 'a', 'b', 'c', 3.14, 3+3j]) == [1, 2, 3, 3.14, 3+3j])"
   ]
  },
  {
   "cell_type": "markdown",
   "metadata": {},
   "source": [
    "**enumerate**"
   ]
  },
  {
   "cell_type": "code",
   "execution_count": null,
   "metadata": {},
   "outputs": [],
   "source": [
    "# напишите функцию, которая принимает список из уникальных элементов,\n",
    "# кроме одного, который присутствует 2 раза, и возвращает часть списка, \n",
    "# которая находится между этими повторяющимися элементами (не включая).\n",
    "\n",
    "def remove_between(l):\n",
    "    pass\n",
    "\n",
    "print(remove_between([1, 'ab', 'abc', 2, 'a', 'abc', 3]) == [2, 'a'])"
   ]
  },
  {
   "cell_type": "code",
   "execution_count": null,
   "metadata": {},
   "outputs": [],
   "source": [
    "# здесь генерируется список длиной в 1001 элемент для последующей проверки на нём\n",
    "l = [i for i in range(10)]\n",
    "l.append(3)\n",
    "for i in range(10, 1000):\n",
    "    l.append(i)\n",
    "print(len(l))"
   ]
  },
  {
   "cell_type": "code",
   "execution_count": null,
   "metadata": {},
   "outputs": [],
   "source": [
    "# попробуйте решить с использованием set, break и слайса участка списка после повторяющегося элемента и нахождением с помощью индекса\n",
    "def remove_between(l):\n",
    "    pass"
   ]
  },
  {
   "cell_type": "markdown",
   "metadata": {},
   "source": [
    "Для сравнения скорости работы можно использовать magic function `timeit`. Подробнее про эту функцию [здесь](https://docs.python.org/3/library/timeit.html).\n",
    "Важно отметить, что корректно сравнивать относительные порядки скорости работы функций, а не абсолютные.\n",
    "\n",
    "Например, у меня получились такие результаты. \n",
    "\n",
    "\n",
    "- 7.23 ms ± 32.9 µs per loop (mean ± std. dev. of 7 runs, 100 loops each) - с `list comprehension`\n",
    "- 79 µs ± 132 ns per loop (mean ± std. dev. of 7 runs, 10,000 loops each) - с <span style=\"color: green;\">**break**</span>  в цикле\n",
    "- 37.2 µs ± 317 ns per loop (mean ± std. dev. of 7 runs, 10,000 loops each) - с <span style=\"color: green;\">set</span>, <span style=\"color: green;\">**break**</span> в цикле и использованием слайса и метода `.index()`\n",
    "\n",
    "То есть, оптимизация с использованием <span style=\"color: green;\">**break**</span> \n",
    " может дасть прирост в скорости на порядок. А использование слайса и метода `.index()` может дать прирост ещё в два раза.\n"
   ]
  },
  {
   "cell_type": "code",
   "execution_count": null,
   "metadata": {},
   "outputs": [],
   "source": [
    "%%timeit \n",
    "remove_between(l)"
   ]
  },
  {
   "cell_type": "markdown",
   "metadata": {},
   "source": [
    "**sorted**"
   ]
  },
  {
   "cell_type": "code",
   "execution_count": null,
   "metadata": {},
   "outputs": [],
   "source": [
    "# Функция возвращает строку в верном порядке, порядковый номер указан в последнем символе каждого слова\n",
    "def sort_sentence(s: str) -> str:\n",
    "    pass \n",
    "\n",
    "sentense = sort_sentence('is2 sentence4 This1 a3')\n",
    "print(sentense == 'This is a sentence')"
   ]
  },
  {
   "cell_type": "code",
   "execution_count": null,
   "metadata": {},
   "outputs": [],
   "source": [
    "# Функция возвращает строку в порядке возрастания по длине слова. Решите в однострочную инструкцию\n",
    "def sort_sentence_by_len(s: str) -> str:\n",
    "    pass\n",
    "\n",
    "print(sort_sentence_by_len(sentense) == 'a is This sentence')"
   ]
  },
  {
   "cell_type": "markdown",
   "metadata": {},
   "source": [
    "**map**"
   ]
  },
  {
   "cell_type": "code",
   "execution_count": null,
   "metadata": {},
   "outputs": [],
   "source": [
    "# Посчитайте квадраты всех чисел в списке\n",
    "def square_list(l):\n",
    "    pass\n",
    "\n",
    "print(square_list([1, 2, 3, 4, 5]) == [1, 4, 9, 16, 25])"
   ]
  },
  {
   "cell_type": "code",
   "execution_count": null,
   "metadata": {},
   "outputs": [],
   "source": [
    "# Замените все слова в строке на их длины, записанные в кортеже\n",
    "import string  # например, может понадобится string.punctuation, чтобы убрать все знаки пунктуации из строки\n",
    "\n",
    "def replace_words(s):\n",
    "    pass\n",
    "\n",
    "print(replace_words('Hello, world!') == (5, 5))\n",
    "print(replace_words('privet, elbrus!') == (6, 6))"
   ]
  },
  {
   "cell_type": "markdown",
   "metadata": {},
   "source": [
    "**zip**"
   ]
  },
  {
   "cell_type": "code",
   "execution_count": null,
   "metadata": {},
   "outputs": [],
   "source": [
    "# Напишите функцию, которая транспонирует матрицу (двумерный массив): \n",
    "# \"меняет местами\" внутренний и внешний массивы\n",
    "\n",
    "def transpose(l):\n",
    "    pass\n",
    "\n",
    "print(transpose([[1, 2, 3], \n",
    "                 [4, 5, 6]]) == [[1, 4], [2, 5], [3, 6]]) \n",
    "\n",
    "print(transpose([[1, 2, 3], \n",
    "                 [4, 5, 6], \n",
    "                 [7, 8, 9]]) == [[1, 4, 7], [2, 5, 8], [3, 6, 9]])\n",
    "\n",
    "print(transpose([[1, 2, 3, 4], \n",
    "                 [5, 6, 7, 8], \n",
    "                 [9,10,11,12]]) == [[1, 5, 9], [2, 6, 10], [3,7,11], [4,8,12]])"
   ]
  },
  {
   "cell_type": "code",
   "execution_count": null,
   "metadata": {},
   "outputs": [],
   "source": [
    "# Напишите функцию, которая преобразует словарь со\n",
    "# значениями одинаковой длины в список словарей.\n",
    "def dict_to_list(d):\n",
    "    pass\n",
    "\n",
    "print(dict_to_list({\n",
    "    'a': [1, 2, 3, 4],\n",
    "    'b': [3, 2, 1, 5],\n",
    "    'c': [5, 6, 7, 9]}) == [\n",
    "                            {'a': 1, 'b': 3, 'c': 5},\n",
    "                            {'a': 2, 'b': 2, 'c': 6},\n",
    "                            {'a': 3, 'b': 1, 'c': 7},\n",
    "                            {'a': 4, 'b': 5, 'c': 9}\n",
    "                            ])"
   ]
  },
  {
   "cell_type": "markdown",
   "metadata": {},
   "source": [
    "**map, reduce, zip**"
   ]
  },
  {
   "cell_type": "code",
   "execution_count": null,
   "metadata": {},
   "outputs": [],
   "source": [
    "# Напишите функцию, которая считает cреднеквадратическую ошибку в однострочную инструкцию\n",
    "from functools import reduce\n",
    "\n",
    "true_values = [12, 10, 12, 13, 12, 12, 13]\n",
    "preds = [14, 12, 12, 11, 12, 11, 12]\n",
    "\n",
    "def mean_squared_error(true, preds):\n",
    "    pass \n",
    "\n",
    "\n",
    "print(mean_squared_error(true_values, preds) == 2.0)"
   ]
  }
 ],
 "metadata": {
  "interpreter": {
   "hash": "8c4d66b392a277a774887e7eee960caae64ddd450a8b0e92eab38ef0b7f9a5e5"
  },
  "kernelspec": {
   "display_name": "Python 3.8.13",
   "language": "python",
   "name": "python3"
  },
  "language_info": {
   "codemirror_mode": {
    "name": "ipython",
    "version": 3
   },
   "file_extension": ".py",
   "mimetype": "text/x-python",
   "name": "python",
   "nbconvert_exporter": "python",
   "pygments_lexer": "ipython3",
   "version": "3.8.13"
  },
  "orig_nbformat": 4
 },
 "nbformat": 4,
 "nbformat_minor": 2
}
